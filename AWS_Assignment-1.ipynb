{
 "cells": [
  {
   "cell_type": "code",
   "execution_count": 9,
   "id": "9c4007dd",
   "metadata": {},
   "outputs": [
    {
     "name": "stdout",
     "output_type": "stream",
     "text": [
      "<class 'int'> 3\n",
      "<class 'str'> Kamsala Saicharan\n",
      "<class 'float'> 0.86\n",
      "<class 'complex'> (8+6j)\n",
      "<class 'list'> [1, 2, 3, 4]\n",
      "<class 'set'> {1, 2, 3, 4}\n",
      "<class 'tuple'> (1, 2, 3, 4)\n",
      "<class 'dict'> {'Name': 'Kamsala Saicharan', 'Roll_no': 41611086}\n",
      "<class 'bool'> True\n"
     ]
    }
   ],
   "source": [
    "# 1.Create Variables with any Object using Various Naming Conventions\n",
    "#integer\n",
    "a=3\n",
    "print(type(a),a)\n",
    "#string\n",
    "Name=\"Kamsala Saicharan\"\n",
    "print(type(Name),Name)\n",
    "#float\n",
    "b=0.86\n",
    "print(type(b),b)\n",
    "#complex\n",
    "c=8+6j\n",
    "print(type(c),c)\n",
    "#list\n",
    "List=[1,2,3,4]\n",
    "print(type(List),List)\n",
    "#set\n",
    "Set={1,2,3,4,2}\n",
    "print(type(Set),Set)\n",
    "#tuple\n",
    "Tuple=(1,2,3,4)\n",
    "print(type(Tuple),Tuple)\n",
    "#dictionary\n",
    "students={\"Name\":\"Kamsala Saicharan\",\"Roll_no\":41611086}\n",
    "print(type(students),students)\n",
    "#boolean\n",
    "d=True\n",
    "print(type(d),d)"
   ]
  },
  {
   "cell_type": "code",
   "execution_count": 11,
   "id": "368494cf",
   "metadata": {},
   "outputs": [
    {
     "name": "stdout",
     "output_type": "stream",
     "text": [
      "Kamsala Saicharan\n",
      "narahciaS alasmaK\n"
     ]
    }
   ],
   "source": [
    "#2.Reverse a String using slicing\n",
    "print(Name)\n",
    "reverse_name=Name[::-1]\n",
    "print(reverse_name)"
   ]
  },
  {
   "cell_type": "code",
   "execution_count": 12,
   "id": "c229cfad",
   "metadata": {},
   "outputs": [
    {
     "name": "stdout",
     "output_type": "stream",
     "text": [
      "['__abs__', '__add__', '__and__', '__bool__', '__ceil__', '__class__', '__delattr__', '__dir__', '__divmod__', '__doc__', '__eq__', '__float__', '__floor__', '__floordiv__', '__format__', '__ge__', '__getattribute__', '__getnewargs__', '__getstate__', '__gt__', '__hash__', '__index__', '__init__', '__init_subclass__', '__int__', '__invert__', '__le__', '__lshift__', '__lt__', '__mod__', '__mul__', '__ne__', '__neg__', '__new__', '__or__', '__pos__', '__pow__', '__radd__', '__rand__', '__rdivmod__', '__reduce__', '__reduce_ex__', '__repr__', '__rfloordiv__', '__rlshift__', '__rmod__', '__rmul__', '__ror__', '__round__', '__rpow__', '__rrshift__', '__rshift__', '__rsub__', '__rtruediv__', '__rxor__', '__setattr__', '__sizeof__', '__str__', '__sub__', '__subclasshook__', '__truediv__', '__trunc__', '__xor__', 'as_integer_ratio', 'bit_count', 'bit_length', 'conjugate', 'denominator', 'from_bytes', 'imag', 'numerator', 'real', 'to_bytes']\n",
      "6\n",
      "Help on method-wrapper:\n",
      "\n",
      "__invert__()\n",
      "    ~self\n",
      "\n"
     ]
    },
    {
     "data": {
      "text/plain": [
       "-4"
      ]
     },
     "execution_count": 12,
     "metadata": {},
     "output_type": "execute_result"
    }
   ],
   "source": [
    "#3.Explore dir() & help()\n",
    "print(dir(a))\n",
    "print(a.__add__(3))\n",
    "help(a.__invert__)\n",
    "#gives the bitwise inverse of the number\n",
    "a.__invert__()"
   ]
  },
  {
   "cell_type": "code",
   "execution_count": 13,
   "id": "eb29cc1e",
   "metadata": {},
   "outputs": [
    {
     "name": "stdout",
     "output_type": "stream",
     "text": [
      "['BPF', 'LOG4', 'NV_MAGICCONST', 'RECIP_BPF', 'Random', 'SG_MAGICCONST', 'SystemRandom', 'TWOPI', '_ONE', '_Sequence', '_Set', '__all__', '__builtins__', '__cached__', '__doc__', '__file__', '__loader__', '__name__', '__package__', '__spec__', '_accumulate', '_acos', '_bisect', '_ceil', '_cos', '_e', '_exp', '_floor', '_index', '_inst', '_isfinite', '_log', '_os', '_pi', '_random', '_repeat', '_sha512', '_sin', '_sqrt', '_test', '_test_generator', '_urandom', '_warn', 'betavariate', 'choice', 'choices', 'expovariate', 'gammavariate', 'gauss', 'getrandbits', 'getstate', 'lognormvariate', 'normalvariate', 'paretovariate', 'randbytes', 'randint', 'random', 'randrange', 'sample', 'seed', 'setstate', 'shuffle', 'triangular', 'uniform', 'vonmisesvariate', 'weibullvariate']\n"
     ]
    }
   ],
   "source": [
    "# 4.List out available attributes for dir()\n",
    "import random\n",
    "print(dir(random))"
   ]
  },
  {
   "cell_type": "code",
   "execution_count": 15,
   "id": "6a904165",
   "metadata": {},
   "outputs": [
    {
     "name": "stdout",
     "output_type": "stream",
     "text": [
      "Help on built-in function index in module _operator:\n",
      "\n",
      "index(a, /)\n",
      "    Same as a.__index__()\n",
      "\n"
     ]
    },
    {
     "data": {
      "text/plain": [
       "86"
      ]
     },
     "execution_count": 15,
     "metadata": {},
     "output_type": "execute_result"
    }
   ],
   "source": [
    "#5.Experiment those attributes using help()\n",
    "help(random._index)\n",
    "random._index(86)"
   ]
  },
  {
   "cell_type": "code",
   "execution_count": null,
   "id": "44315692",
   "metadata": {},
   "outputs": [],
   "source": []
  }
 ],
 "metadata": {
  "kernelspec": {
   "display_name": "Python 3 (ipykernel)",
   "language": "python",
   "name": "python3"
  },
  "language_info": {
   "codemirror_mode": {
    "name": "ipython",
    "version": 3
   },
   "file_extension": ".py",
   "mimetype": "text/x-python",
   "name": "python",
   "nbconvert_exporter": "python",
   "pygments_lexer": "ipython3",
   "version": "3.11.1"
  }
 },
 "nbformat": 4,
 "nbformat_minor": 5
}
