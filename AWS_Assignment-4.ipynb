{
 "cells": [
  {
   "cell_type": "code",
   "execution_count": 1,
   "id": "502f7729",
   "metadata": {},
   "outputs": [
    {
     "name": "stdout",
     "output_type": "stream",
     "text": [
      "Upper case: MANJUNATH\n",
      "Lower case: manjunath\n",
      "Capitalized: Manjunath\n",
      "Replaced: Manjunath\n"
     ]
    }
   ],
   "source": [
    "# 1.Define a string\n",
    "name = \"Manjunath\"\n",
    "# Convert to upper case\n",
    "upper_case = name.upper()\n",
    "print(\"Upper case:\", upper_case)\n",
    "\n",
    "# Convert to lower case\n",
    "lower_case = name.lower()\n",
    "print(\"Lower case:\", lower_case)\n",
    "\n",
    "# Capitalize the string\n",
    "capitalized = name.capitalize()\n",
    "print(\"Capitalized:\", capitalized)\n",
    "\n",
    "# Replace 'e' with 'E'\n",
    "replaced = name.replace('e', 'E')\n",
    "print(\"Replaced:\", replaced)"
   ]
  },
  {
   "cell_type": "code",
   "execution_count": 3,
   "id": "a1628858",
   "metadata": {},
   "outputs": [
    {
     "name": "stdout",
     "output_type": "stream",
     "text": [
      "Extended list: [1, 2, 3, 5, 7, 8]\n"
     ]
    }
   ],
   "source": [
    "# 2.Define a list\n",
    "L = [1, 2, 3]\n",
    "\n",
    "# Extend the list\n",
    "L.extend([5, 6, 7,8])\n",
    "\n",
    "# Remove the 5th value\n",
    "del L[4]\n",
    "\n",
    "print(\"Extended list:\", L)"
   ]
  },
  {
   "cell_type": "code",
   "execution_count": 4,
   "id": "f2421614",
   "metadata": {},
   "outputs": [
    {
     "name": "stdout",
     "output_type": "stream",
     "text": [
      "Updated dictionary: {'mango': 15, 'apple': 15, 'pineapple': 15}\n"
     ]
    }
   ],
   "source": [
    "# 3.Define a dictionary\n",
    "d = {'mango': 10, 'banana': 0, 'apple': 15, 'orange': 0, 'pineapple': 20}\n",
    "\n",
    "# Remove out of stock fruits (value == 0)\n",
    "out_of_stock = [key for key, value in d.items() if value == 0]\n",
    "for fruit in out_of_stock:\n",
    "    del d[fruit]\n",
    "\n",
    "# Update mango quantity to 15 and decrease pineapple by 5\n",
    "d['mango'] = 15\n",
    "d['pineapple'] -= 5\n",
    "\n",
    "print(\"Updated dictionary:\", d)"
   ]
  },
  {
   "cell_type": "code",
   "execution_count": 5,
   "id": "d1117290",
   "metadata": {},
   "outputs": [
    {
     "name": "stdout",
     "output_type": "stream",
     "text": [
      "[2, 4, 6, 8, 10, 12, 14, 16, 18]\n"
     ]
    }
   ],
   "source": [
    "# Given list\n",
    "a = [2, 4, 6, 8, 10]\n",
    "\n",
    "# Problem 1\n",
    "a += [12, 14, 16, 18]\n",
    "print(a)"
   ]
  },
  {
   "cell_type": "code",
   "execution_count": 6,
   "id": "dba633ba",
   "metadata": {},
   "outputs": [
    {
     "name": "stdout",
     "output_type": "stream",
     "text": [
      "[-10, -8, -6, -4, -2, 0, 2, 4, 6, 10]\n"
     ]
    }
   ],
   "source": [
    "# Problem 2\n",
    "print([x-12 for x in a]+[10])"
   ]
  },
  {
   "cell_type": "code",
   "execution_count": 7,
   "id": "356685de",
   "metadata": {},
   "outputs": [
    {
     "name": "stdout",
     "output_type": "stream",
     "text": [
      "[2, 3, 4, 5, 6, 7, 8, 10]\n"
     ]
    }
   ],
   "source": [
    "#problem 3\n",
    "a = [2, 4, 6, 8, 10]\n",
    "a[1:1]=[3]\n",
    "a[3:3]=[5]\n",
    "a[5:5]=[7]\n",
    "print(a)"
   ]
  },
  {
   "cell_type": "code",
   "execution_count": 8,
   "id": "38e1fff1",
   "metadata": {},
   "outputs": [
    {
     "name": "stdout",
     "output_type": "stream",
     "text": [
      "[2, 4, 6, 'a', 'b', 'c', 8, 10]\n"
     ]
    }
   ],
   "source": [
    "# Problem 4\n",
    "a = [2, 4, 6, 8, 10]\n",
    "a[3:3] = ['a', 'b', 'c']\n",
    "print(a)"
   ]
  },
  {
   "cell_type": "code",
   "execution_count": 9,
   "id": "6d029ec2",
   "metadata": {},
   "outputs": [
    {
     "name": "stdout",
     "output_type": "stream",
     "text": [
      "[2, 4, 6, 8, 10]\n"
     ]
    }
   ],
   "source": [
    "#problem 5\n",
    "a = [2, 4, 6, 8, 10]\n",
    "print(a)"
   ]
  },
  {
   "cell_type": "code",
   "execution_count": 10,
   "id": "31dc9f9c",
   "metadata": {},
   "outputs": [
    {
     "name": "stdout",
     "output_type": "stream",
     "text": [
      "[]\n"
     ]
    }
   ],
   "source": [
    "#problem 6\n",
    "print(a[0:0])"
   ]
  },
  {
   "cell_type": "code",
   "execution_count": 11,
   "id": "493238d4",
   "metadata": {},
   "outputs": [
    {
     "name": "stdout",
     "output_type": "stream",
     "text": [
      "[10, 8, 6, 4, 2]\n"
     ]
    }
   ],
   "source": [
    "#problem 7\n",
    "print(a[::-1])"
   ]
  },
  {
   "cell_type": "code",
   "execution_count": 12,
   "id": "e54ad1c2",
   "metadata": {},
   "outputs": [
    {
     "name": "stdout",
     "output_type": "stream",
     "text": [
      "[2, 4, 6]\n"
     ]
    }
   ],
   "source": [
    "#problem 8\n",
    "print(a[0:3])"
   ]
  },
  {
   "cell_type": "code",
   "execution_count": 13,
   "id": "b2a11d60",
   "metadata": {},
   "outputs": [
    {
     "name": "stdout",
     "output_type": "stream",
     "text": [
      "[6, 8, 10]\n"
     ]
    }
   ],
   "source": [
    "#problem 9\n",
    "print(a[2:])"
   ]
  },
  {
   "cell_type": "code",
   "execution_count": 14,
   "id": "749159be",
   "metadata": {},
   "outputs": [
    {
     "name": "stdout",
     "output_type": "stream",
     "text": [
      "[2, 10]\n"
     ]
    }
   ],
   "source": [
    "#problem 10\n",
    "a[1:4]=[]\n",
    "print(a)"
   ]
  },
  {
   "cell_type": "code",
   "execution_count": 15,
   "id": "77ac55b8",
   "metadata": {},
   "outputs": [
    {
     "name": "stdout",
     "output_type": "stream",
     "text": [
      "[4, 6, 8]\n"
     ]
    }
   ],
   "source": [
    "#problem 11\n",
    "a = [2, 4, 6, 8, 10]\n",
    "print(a[1:4])"
   ]
  },
  {
   "cell_type": "code",
   "execution_count": null,
   "id": "3bf65324",
   "metadata": {},
   "outputs": [],
   "source": []
  }
 ],
 "metadata": {
  "kernelspec": {
   "display_name": "Python 3 (ipykernel)",
   "language": "python",
   "name": "python3"
  },
  "language_info": {
   "codemirror_mode": {
    "name": "ipython",
    "version": 3
   },
   "file_extension": ".py",
   "mimetype": "text/x-python",
   "name": "python",
   "nbconvert_exporter": "python",
   "pygments_lexer": "ipython3",
   "version": "3.11.1"
  }
 },
 "nbformat": 4,
 "nbformat_minor": 5
}
