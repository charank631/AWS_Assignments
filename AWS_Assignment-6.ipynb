{
 "cells": [
  {
   "cell_type": "code",
   "execution_count": 1,
   "id": "41586640",
   "metadata": {},
   "outputs": [
    {
     "name": "stdout",
     "output_type": "stream",
     "text": [
      "(4, 0)\n"
     ]
    }
   ],
   "source": [
    "#1.cow bull prog as a func\n",
    "def cow_bull(secret, guess):\n",
    "    cow = sum(s == g for s, g in zip(secret, guess))\n",
    "    bull = sum(g in secret for g in guess) - cow\n",
    "    return cow, bull\n",
    "\n",
    "# Example usage\n",
    "secret = \"hello\"\n",
    "guess = \"hallo\"\n",
    "print(cow_bull(secret, guess))"
   ]
  },
  {
   "cell_type": "code",
   "execution_count": 2,
   "id": "f63bb3b1",
   "metadata": {},
   "outputs": [
    {
     "name": "stdout",
     "output_type": "stream",
     "text": [
      "True\n",
      "False\n"
     ]
    }
   ],
   "source": [
    "#2.write palindrome and fibo func\n",
    "def is_palindrome(s):\n",
    "    return s == s[::-1]\n",
    "\n",
    "# Example usage\n",
    "print(is_palindrome(\"madam\"))\n",
    "print(is_palindrome(\"hello\"))"
   ]
  },
  {
   "cell_type": "code",
   "execution_count": 4,
   "id": "f9506ee2",
   "metadata": {},
   "outputs": [
    {
     "name": "stdout",
     "output_type": "stream",
     "text": [
      "[0, 1, 1, 2, 3, 5, 8, 13]\n"
     ]
    }
   ],
   "source": [
    "def fibonacci(n):\n",
    "    fibo = [0, 1]\n",
    "    while len(fibo) < n:\n",
    "        fibo.append(fibo[-1] + fibo[-2])\n",
    "    return fibo[:n]\n",
    "\n",
    "# Example usage\n",
    "print(fibonacci(8))"
   ]
  },
  {
   "cell_type": "code",
   "execution_count": 5,
   "id": "cc6fb85d",
   "metadata": {},
   "outputs": [
    {
     "name": "stdout",
     "output_type": "stream",
     "text": [
      "[0, 1, 2, 3, 4, 5, 6]\n",
      "[3, 5, 7, 9]\n"
     ]
    }
   ],
   "source": [
    "#3.create a func to replicate range\n",
    "def my_range(start, stop=None, step=1):\n",
    "    if stop is None:\n",
    "        stop = start\n",
    "        start = 0\n",
    "    return list(range(start, stop, step))\n",
    "\n",
    "# Example usage\n",
    "print(my_range(7))\n",
    "print(my_range(3, 10, 2))"
   ]
  },
  {
   "cell_type": "code",
   "execution_count": 7,
   "id": "bc2575a8",
   "metadata": {},
   "outputs": [
    {
     "name": "stdout",
     "output_type": "stream",
     "text": [
      "Sai charan\n"
     ]
    }
   ],
   "source": [
    "#4.capitalize\n",
    "def Capitalize(text):\n",
    "    return text.capitalize()\n",
    "#Example usage\n",
    "a=\"sai charan\"\n",
    "print(Capitalize(a))"
   ]
  },
  {
   "cell_type": "code",
   "execution_count": null,
   "id": "9cfd5f34",
   "metadata": {},
   "outputs": [],
   "source": []
  }
 ],
 "metadata": {
  "kernelspec": {
   "display_name": "Python 3 (ipykernel)",
   "language": "python",
   "name": "python3"
  },
  "language_info": {
   "codemirror_mode": {
    "name": "ipython",
    "version": 3
   },
   "file_extension": ".py",
   "mimetype": "text/x-python",
   "name": "python",
   "nbconvert_exporter": "python",
   "pygments_lexer": "ipython3",
   "version": "3.11.1"
  }
 },
 "nbformat": 4,
 "nbformat_minor": 5
}
