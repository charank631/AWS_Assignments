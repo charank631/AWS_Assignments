{
 "cells": [
  {
   "cell_type": "code",
   "execution_count": 1,
   "id": "fb939582",
   "metadata": {},
   "outputs": [
    {
     "name": "stdout",
     "output_type": "stream",
     "text": [
      "Saicharan Kamsala\n"
     ]
    }
   ],
   "source": [
    "#1.Write Examples code for concatenation\n",
    "first_name=\"Saicharan\"\n",
    "last_name=\"Kamsala\"\n",
    "full_name=first_name+\" \"+last_name\n",
    "print(full_name)"
   ]
  },
  {
   "cell_type": "code",
   "execution_count": 2,
   "id": "478f3755",
   "metadata": {},
   "outputs": [
    {
     "name": "stdout",
     "output_type": "stream",
     "text": [
      "Formatted string: Name: Saicharan, Age: 20\n",
      "Formatted string: Name: Saicharan, Age: 20\n",
      "Formatted string: Name: Saicharan, Age: 20\n"
     ]
    }
   ],
   "source": [
    "#2.Write one Examples for each formatting techniques\n",
    "#Go Through Reference site and apply various options into formatting techniques\n",
    "name = \"Saicharan\"\n",
    "age = 20\n",
    "formatted_string = \"Name: %s, Age: %d\" % (name, age)\n",
    "print(\"Formatted string:\", formatted_string)\n",
    "\n",
    "from string import Template\n",
    "template = Template(\"Name: $name, Age: $age\")\n",
    "formatted_string = template.substitute(name=name, age=age)\n",
    "print(\"Formatted string:\", formatted_string)\n",
    "\n",
    "formatted_string = \"Name: {}, Age: {}\".format(name, age)\n",
    "print(\"Formatted string:\", formatted_string)"
   ]
  },
  {
   "cell_type": "code",
   "execution_count": 4,
   "id": "5305d712",
   "metadata": {},
   "outputs": [
    {
     "name": "stdout",
     "output_type": "stream",
     "text": [
      "addition of a and b = 11\n",
      "substraction of b from a = 5\n",
      "Multiplication of a and b is  24\n",
      "divison of a by b is  2.6666666666666665\n",
      "modulus of a by b is  2\n",
      "floor division of a by b is  2\n",
      "exponention of a by b is  512\n"
     ]
    }
   ],
   "source": [
    "#3.Write example for each arithmetic operators\n",
    "a=8\n",
    "b=3\n",
    "# addition\n",
    "print(\"addition of a and b =\",a+b)\n",
    "# substraction\n",
    "print(\"substraction of b from a =\",a-b)\n",
    "# multiplication\n",
    "print(\"Multiplication of a and b is \",a*b)\n",
    "# Division\n",
    "print(\"divison of a by b is \",a/b)\n",
    "# modulus\n",
    "print(\"modulus of a by b is \",a%b)\n",
    "#floor division\n",
    "print(\"floor division of a by b is \",a//b)\n",
    "#exponention \n",
    "print(\"exponention of a by b is \",a**b)"
   ]
  },
  {
   "cell_type": "code",
   "execution_count": 5,
   "id": "ccbea079",
   "metadata": {},
   "outputs": [
    {
     "name": "stdout",
     "output_type": "stream",
     "text": [
      "4\n",
      "28\n",
      "9.333333333333334\n",
      "3.0\n",
      "0.0\n",
      "343\n"
     ]
    }
   ],
   "source": [
    "#4.Write Example for assignment operators (except: = &amp; +=)\n",
    "x=7\n",
    "# substraction assignment\n",
    "x-=3\n",
    "print(x)\n",
    "#multiplication assignment\n",
    "x*=7\n",
    "print(x)\n",
    "#divison assignment\n",
    "x/=3\n",
    "print(x)\n",
    "#floor divison assignment\n",
    "x//=3\n",
    "print(x)\n",
    "#modulus assignment\n",
    "x%=3\n",
    "print(x)\n",
    "x=7\n",
    "#exponention\n",
    "x**=3\n",
    "print(x)"
   ]
  },
  {
   "cell_type": "code",
   "execution_count": null,
   "id": "180bbcd6",
   "metadata": {},
   "outputs": [],
   "source": []
  }
 ],
 "metadata": {
  "kernelspec": {
   "display_name": "Python 3 (ipykernel)",
   "language": "python",
   "name": "python3"
  },
  "language_info": {
   "codemirror_mode": {
    "name": "ipython",
    "version": 3
   },
   "file_extension": ".py",
   "mimetype": "text/x-python",
   "name": "python",
   "nbconvert_exporter": "python",
   "pygments_lexer": "ipython3",
   "version": "3.11.1"
  }
 },
 "nbformat": 4,
 "nbformat_minor": 5
}
