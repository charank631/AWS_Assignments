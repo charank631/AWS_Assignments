{
 "cells": [
  {
   "cell_type": "code",
   "execution_count": 1,
   "id": "abe41b94",
   "metadata": {},
   "outputs": [
    {
     "name": "stdout",
     "output_type": "stream",
     "text": [
      "Capitalize function: Saicharan kamsala\n",
      "Name.upper() function: SAICHARAN KAMSALA\n",
      "Name.lower() function: saicharan kamsala\n",
      "Name.title() function: Saicharan Kamsala\n"
     ]
    }
   ],
   "source": [
    "#1.Refer capitalize function in shared program files, replicate .upper() and .lower() functions\n",
    "Name = \"Saicharan Kamsala\"\n",
    "capitalized_name = Name.capitalize()\n",
    "uppercase_name= Name.upper()\n",
    "lowercase_name = Name.lower()\n",
    "title_name=Name.title()\n",
    "print(\"Capitalize function:\", capitalized_name)\n",
    "print(\"Name.upper() function:\", uppercase_name)\n",
    "print(\"Name.lower() function:\", lowercase_name)\n",
    "print(\"Name.title() function:\", title_name)"
   ]
  },
  {
   "cell_type": "code",
   "execution_count": 2,
   "id": "d850ae0f",
   "metadata": {},
   "outputs": [
    {
     "name": "stdout",
     "output_type": "stream",
     "text": [
      "Odd_sequence: [1, 65, 1, 65, 33, 87, 9]\n"
     ]
    }
   ],
   "source": [
    "#2.Create a odd sequence from given sequence [1,2,34,65,1,2,65,66,44,33,22,87,123412,09,78,76]\n",
    "sequence = [1,2,34,65,1,2,65,66,44,33,22,87,123412,9,78,76]\n",
    "odd_sequence=[x for x in sequence if x%2!=0]\n",
    "print(\"Odd_sequence:\",odd_sequence)"
   ]
  },
  {
   "cell_type": "code",
   "execution_count": 3,
   "id": "1c22d4bf",
   "metadata": {},
   "outputs": [
    {
     "name": "stdout",
     "output_type": "stream",
     "text": [
      "Fruits with values more than 20: {'pineapple': 25, 'orange': 30, 'strawberry': 50}\n"
     ]
    }
   ],
   "source": [
    "#3.{‘apple’: 10, ‘mango’: 20, ‘pineapple’: 25, ‘orange’: 30, ‘strawberry’: 50, ‘jackfruit’: 10} Generate a comprehension fruits which has more than 20\n",
    "fruits = {'apple': 10, 'mango': 20, 'pineapple': 25, 'orange': 30, 'strawberry': 50, 'jackfruit': 10}\n",
    "fruits_more_than_20 = {key: value for key, value in fruits.items() if value > 20}\n",
    "print(\"Fruits with values more than 20:\", fruits_more_than_20)"
   ]
  },
  {
   "cell_type": "code",
   "execution_count": null,
   "id": "3088ab81",
   "metadata": {},
   "outputs": [],
   "source": []
  }
 ],
 "metadata": {
  "kernelspec": {
   "display_name": "Python 3 (ipykernel)",
   "language": "python",
   "name": "python3"
  },
  "language_info": {
   "codemirror_mode": {
    "name": "ipython",
    "version": 3
   },
   "file_extension": ".py",
   "mimetype": "text/x-python",
   "name": "python",
   "nbconvert_exporter": "python",
   "pygments_lexer": "ipython3",
   "version": "3.11.1"
  }
 },
 "nbformat": 4,
 "nbformat_minor": 5
}
